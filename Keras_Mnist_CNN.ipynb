{
  "nbformat": 4,
  "nbformat_minor": 0,
  "metadata": {
    "colab": {
      "name": "Keras_Mnist_CNN.ipynb",
      "version": "0.3.2",
      "provenance": [],
      "collapsed_sections": [],
      "include_colab_link": true
    },
    "language_info": {
      "codemirror_mode": {
        "name": "ipython",
        "version": 3
      },
      "file_extension": ".py",
      "mimetype": "text/x-python",
      "name": "python",
      "nbconvert_exporter": "python",
      "pygments_lexer": "ipython3",
      "version": "3.5.3"
    },
    "kernelspec": {
      "name": "python3",
      "display_name": "Python 3"
    },
    "accelerator": "GPU"
  },
  "cells": [
    {
      "cell_type": "markdown",
      "metadata": {
        "id": "view-in-github",
        "colab_type": "text"
      },
      "source": [
        "<a href=\"https://colab.research.google.com/github/VongolaXIman/107-2-Multimedia/blob/master/Keras_Mnist_CNN.ipynb\" target=\"_parent\"><img src=\"https://colab.research.google.com/assets/colab-badge.svg\" alt=\"Open In Colab\"/></a>"
      ]
    },
    {
      "cell_type": "markdown",
      "metadata": {
        "id": "DhlDDiDLUGwZ",
        "colab_type": "text"
      },
      "source": [
        "# 1. Import Library"
      ]
    },
    {
      "cell_type": "code",
      "metadata": {
        "id": "vUAnj3LEUGwa",
        "colab_type": "code",
        "outputId": "c721bdf0-fc30-4992-e9b1-daf0bc8b455b",
        "colab": {
          "base_uri": "https://localhost:8080/",
          "height": 34
        }
      },
      "source": [
        "from keras.datasets import mnist\n",
        "from keras.utils import np_utils\n",
        "import numpy as np\n",
        "np.random.seed(10)"
      ],
      "execution_count": 0,
      "outputs": [
        {
          "output_type": "stream",
          "text": [
            "Using TensorFlow backend.\n"
          ],
          "name": "stderr"
        }
      ]
    },
    {
      "cell_type": "markdown",
      "metadata": {
        "id": "Cd41HDGsUGwh",
        "colab_type": "text"
      },
      "source": [
        "# 資料預處理"
      ]
    },
    {
      "cell_type": "code",
      "metadata": {
        "id": "K4zLGTBJUGwi",
        "colab_type": "code",
        "colab": {}
      },
      "source": [
        "(x_Train, y_Train), (x_Test, y_Test) = mnist.load_data()"
      ],
      "execution_count": 0,
      "outputs": []
    },
    {
      "cell_type": "code",
      "metadata": {
        "id": "xwcCn-zeUGwl",
        "colab_type": "code",
        "colab": {}
      },
      "source": [
        "x_Train4D=x_Train.reshape(x_Train.shape[0],28,28,1).astype('float32')\n",
        "x_Test4D=x_Test.reshape(x_Test.shape[0],28,28,1).astype('float32')"
      ],
      "execution_count": 0,
      "outputs": []
    },
    {
      "cell_type": "code",
      "metadata": {
        "id": "vcLq6MR-UGwo",
        "colab_type": "code",
        "colab": {}
      },
      "source": [
        "x_Train4D_normalize = x_Train4D / 255\n",
        "x_Test4D_normalize = x_Test4D / 255"
      ],
      "execution_count": 0,
      "outputs": []
    },
    {
      "cell_type": "code",
      "metadata": {
        "id": "RMsV3-vqUGwr",
        "colab_type": "code",
        "colab": {}
      },
      "source": [
        "y_TrainOneHot = np_utils.to_categorical(y_Train)\n",
        "y_TestOneHot = np_utils.to_categorical(y_Test)"
      ],
      "execution_count": 0,
      "outputs": []
    },
    {
      "cell_type": "markdown",
      "metadata": {
        "id": "YfXDEwXvUGwt",
        "colab_type": "text"
      },
      "source": [
        "# 建立模型"
      ]
    },
    {
      "cell_type": "code",
      "metadata": {
        "id": "xugBbpzeUGwu",
        "colab_type": "code",
        "colab": {}
      },
      "source": [
        "from keras.models import Sequential\n",
        "from keras.layers import Dense,Dropout,Flatten,Conv2D,MaxPooling2D"
      ],
      "execution_count": 0,
      "outputs": []
    },
    {
      "cell_type": "code",
      "metadata": {
        "id": "IlklRcKiUGwx",
        "colab_type": "code",
        "colab": {}
      },
      "source": [
        "model = Sequential()"
      ],
      "execution_count": 0,
      "outputs": []
    },
    {
      "cell_type": "code",
      "metadata": {
        "id": "KVX2IDItUGw0",
        "colab_type": "code",
        "outputId": "63b08924-a0a4-4613-8c66-d76ecbc7db37",
        "colab": {
          "base_uri": "https://localhost:8080/",
          "height": 88
        }
      },
      "source": [
        "model.add(Conv2D(filters=16,\n",
        "                 kernel_size=(5,5),\n",
        "                 padding='same',\n",
        "                 input_shape=(28,28,1), \n",
        "                 activation='relu'))"
      ],
      "execution_count": 0,
      "outputs": [
        {
          "output_type": "stream",
          "text": [
            "WARNING:tensorflow:From /usr/local/lib/python3.6/dist-packages/tensorflow/python/framework/op_def_library.py:263: colocate_with (from tensorflow.python.framework.ops) is deprecated and will be removed in a future version.\n",
            "Instructions for updating:\n",
            "Colocations handled automatically by placer.\n"
          ],
          "name": "stdout"
        }
      ]
    },
    {
      "cell_type": "code",
      "metadata": {
        "id": "N7nu_CnJUGw3",
        "colab_type": "code",
        "colab": {}
      },
      "source": [
        "model.add(MaxPooling2D(pool_size=(2, 2)))"
      ],
      "execution_count": 0,
      "outputs": []
    },
    {
      "cell_type": "code",
      "metadata": {
        "id": "VUerLL9IUGw6",
        "colab_type": "code",
        "colab": {}
      },
      "source": [
        "model.add(Conv2D(filters=36,\n",
        "                 kernel_size=(5,5),\n",
        "                 padding='same',\n",
        "                 activation='relu'))"
      ],
      "execution_count": 0,
      "outputs": []
    },
    {
      "cell_type": "code",
      "metadata": {
        "id": "EnZcBzRPUGw9",
        "colab_type": "code",
        "colab": {}
      },
      "source": [
        "model.add(MaxPooling2D(pool_size=(2, 2)))"
      ],
      "execution_count": 0,
      "outputs": []
    },
    {
      "cell_type": "code",
      "metadata": {
        "id": "G60TsmhLUGw_",
        "colab_type": "code",
        "outputId": "5e57c7b3-6b69-4028-9a39-457326f004af",
        "colab": {
          "base_uri": "https://localhost:8080/",
          "height": 88
        }
      },
      "source": [
        "model.add(Dropout(0.25))"
      ],
      "execution_count": 0,
      "outputs": [
        {
          "output_type": "stream",
          "text": [
            "WARNING:tensorflow:From /usr/local/lib/python3.6/dist-packages/keras/backend/tensorflow_backend.py:3445: calling dropout (from tensorflow.python.ops.nn_ops) with keep_prob is deprecated and will be removed in a future version.\n",
            "Instructions for updating:\n",
            "Please use `rate` instead of `keep_prob`. Rate should be set to `rate = 1 - keep_prob`.\n"
          ],
          "name": "stdout"
        }
      ]
    },
    {
      "cell_type": "code",
      "metadata": {
        "id": "aqMYDHGIUGxC",
        "colab_type": "code",
        "colab": {}
      },
      "source": [
        "model.add(Flatten())"
      ],
      "execution_count": 0,
      "outputs": []
    },
    {
      "cell_type": "code",
      "metadata": {
        "id": "sI5T5QaMUGxE",
        "colab_type": "code",
        "colab": {}
      },
      "source": [
        "model.add(Dense(128, activation='relu'))"
      ],
      "execution_count": 0,
      "outputs": []
    },
    {
      "cell_type": "code",
      "metadata": {
        "id": "OfZseVLdUGxG",
        "colab_type": "code",
        "colab": {}
      },
      "source": [
        "model.add(Dropout(0.5))"
      ],
      "execution_count": 0,
      "outputs": []
    },
    {
      "cell_type": "code",
      "metadata": {
        "id": "D85-zooKUGxJ",
        "colab_type": "code",
        "colab": {}
      },
      "source": [
        "model.add(Dense(10,activation='softmax'))"
      ],
      "execution_count": 0,
      "outputs": []
    },
    {
      "cell_type": "code",
      "metadata": {
        "id": "VH9QvLjeUGxL",
        "colab_type": "code",
        "outputId": "ffe573cd-492d-41de-846e-2cd41d0c3151",
        "colab": {
          "base_uri": "https://localhost:8080/",
          "height": 459
        }
      },
      "source": [
        "print(model.summary())"
      ],
      "execution_count": 0,
      "outputs": [
        {
          "output_type": "stream",
          "text": [
            "_________________________________________________________________\n",
            "Layer (type)                 Output Shape              Param #   \n",
            "=================================================================\n",
            "conv2d_1 (Conv2D)            (None, 28, 28, 16)        416       \n",
            "_________________________________________________________________\n",
            "max_pooling2d_1 (MaxPooling2 (None, 14, 14, 16)        0         \n",
            "_________________________________________________________________\n",
            "conv2d_2 (Conv2D)            (None, 14, 14, 36)        14436     \n",
            "_________________________________________________________________\n",
            "max_pooling2d_2 (MaxPooling2 (None, 7, 7, 36)          0         \n",
            "_________________________________________________________________\n",
            "dropout_1 (Dropout)          (None, 7, 7, 36)          0         \n",
            "_________________________________________________________________\n",
            "flatten_1 (Flatten)          (None, 1764)              0         \n",
            "_________________________________________________________________\n",
            "dense_1 (Dense)              (None, 128)               225920    \n",
            "_________________________________________________________________\n",
            "dropout_2 (Dropout)          (None, 128)               0         \n",
            "_________________________________________________________________\n",
            "dense_2 (Dense)              (None, 10)                1290      \n",
            "=================================================================\n",
            "Total params: 242,062\n",
            "Trainable params: 242,062\n",
            "Non-trainable params: 0\n",
            "_________________________________________________________________\n",
            "None\n"
          ],
          "name": "stdout"
        }
      ]
    },
    {
      "cell_type": "markdown",
      "metadata": {
        "id": "4YPHMM71UGxQ",
        "colab_type": "text"
      },
      "source": [
        "# 訓練模型"
      ]
    },
    {
      "cell_type": "code",
      "metadata": {
        "id": "w0JhC03yUGxR",
        "colab_type": "code",
        "colab": {}
      },
      "source": [
        "model.compile(loss='categorical_crossentropy',\n",
        "              optimizer='adam',metrics=['accuracy']) "
      ],
      "execution_count": 0,
      "outputs": []
    },
    {
      "cell_type": "code",
      "metadata": {
        "id": "EJ5JwCgsUGxT",
        "colab_type": "code",
        "outputId": "09754f8e-3bb0-4409-e739-a13f0bf57bf7",
        "colab": {
          "base_uri": "https://localhost:8080/",
          "height": 785
        }
      },
      "source": [
        "train_history=model.fit(x=x_Train4D_normalize, \n",
        "                        y=y_TrainOneHot,validation_split=0.2, \n",
        "                        epochs=20, batch_size=300,verbose=2)"
      ],
      "execution_count": 0,
      "outputs": [
        {
          "output_type": "stream",
          "text": [
            "WARNING:tensorflow:From /usr/local/lib/python3.6/dist-packages/tensorflow/python/ops/math_ops.py:3066: to_int32 (from tensorflow.python.ops.math_ops) is deprecated and will be removed in a future version.\n",
            "Instructions for updating:\n",
            "Use tf.cast instead.\n",
            "Train on 48000 samples, validate on 12000 samples\n",
            "Epoch 1/20\n",
            " - 6s - loss: 0.4887 - acc: 0.8476 - val_loss: 0.0976 - val_acc: 0.9719\n",
            "Epoch 2/20\n",
            " - 1s - loss: 0.1424 - acc: 0.9582 - val_loss: 0.0631 - val_acc: 0.9801\n",
            "Epoch 3/20\n",
            " - 1s - loss: 0.1036 - acc: 0.9692 - val_loss: 0.0515 - val_acc: 0.9838\n",
            "Epoch 4/20\n",
            " - 1s - loss: 0.0844 - acc: 0.9753 - val_loss: 0.0464 - val_acc: 0.9861\n",
            "Epoch 5/20\n",
            " - 1s - loss: 0.0728 - acc: 0.9774 - val_loss: 0.0395 - val_acc: 0.9879\n",
            "Epoch 6/20\n",
            " - 1s - loss: 0.0651 - acc: 0.9808 - val_loss: 0.0394 - val_acc: 0.9880\n",
            "Epoch 7/20\n",
            " - 1s - loss: 0.0572 - acc: 0.9826 - val_loss: 0.0439 - val_acc: 0.9865\n",
            "Epoch 8/20\n",
            " - 1s - loss: 0.0528 - acc: 0.9839 - val_loss: 0.0334 - val_acc: 0.9896\n",
            "Epoch 9/20\n",
            " - 1s - loss: 0.0455 - acc: 0.9861 - val_loss: 0.0344 - val_acc: 0.9898\n",
            "Epoch 10/20\n",
            " - 1s - loss: 0.0430 - acc: 0.9872 - val_loss: 0.0339 - val_acc: 0.9901\n",
            "Epoch 11/20\n",
            " - 1s - loss: 0.0414 - acc: 0.9875 - val_loss: 0.0322 - val_acc: 0.9910\n",
            "Epoch 12/20\n",
            " - 1s - loss: 0.0368 - acc: 0.9884 - val_loss: 0.0293 - val_acc: 0.9913\n",
            "Epoch 13/20\n",
            " - 1s - loss: 0.0337 - acc: 0.9897 - val_loss: 0.0274 - val_acc: 0.9924\n",
            "Epoch 14/20\n",
            " - 1s - loss: 0.0321 - acc: 0.9903 - val_loss: 0.0278 - val_acc: 0.9922\n",
            "Epoch 15/20\n",
            " - 1s - loss: 0.0309 - acc: 0.9899 - val_loss: 0.0277 - val_acc: 0.9922\n",
            "Epoch 16/20\n",
            " - 1s - loss: 0.0286 - acc: 0.9904 - val_loss: 0.0279 - val_acc: 0.9918\n",
            "Epoch 17/20\n",
            " - 1s - loss: 0.0270 - acc: 0.9914 - val_loss: 0.0289 - val_acc: 0.9917\n",
            "Epoch 18/20\n",
            " - 1s - loss: 0.0273 - acc: 0.9909 - val_loss: 0.0271 - val_acc: 0.9923\n",
            "Epoch 19/20\n",
            " - 1s - loss: 0.0268 - acc: 0.9916 - val_loss: 0.0292 - val_acc: 0.9918\n",
            "Epoch 20/20\n",
            " - 1s - loss: 0.0231 - acc: 0.9927 - val_loss: 0.0271 - val_acc: 0.9928\n"
          ],
          "name": "stdout"
        }
      ]
    },
    {
      "cell_type": "code",
      "metadata": {
        "id": "dfHLpwuvUGxX",
        "colab_type": "code",
        "colab": {}
      },
      "source": [
        "import matplotlib.pyplot as plt\n",
        "def show_train_history(train_acc,test_acc):\n",
        "    plt.plot(train_history.history[train_acc])\n",
        "    plt.plot(train_history.history[test_acc])\n",
        "    plt.title('Train History')\n",
        "    plt.ylabel('Accuracy')\n",
        "    plt.xlabel('Epoch')\n",
        "    plt.legend(['train', 'test'], loc='upper left')\n",
        "    plt.show()"
      ],
      "execution_count": 0,
      "outputs": []
    },
    {
      "cell_type": "code",
      "metadata": {
        "id": "TgZK0n8zUGxa",
        "colab_type": "code",
        "outputId": "66ba61b7-250f-4fb2-f6bc-4391825b8e0a",
        "colab": {
          "base_uri": "https://localhost:8080/",
          "height": 295
        }
      },
      "source": [
        "show_train_history('acc','val_acc')"
      ],
      "execution_count": 0,
      "outputs": [
        {
          "output_type": "display_data",
          "data": {
            "image/png": "[encoded data removed]",
            "text/plain": [
              "<Figure size 432x288 with 1 Axes>"
            ]
          },
          "metadata": {
            "tags": []
          }
        }
      ]
    },
    {
      "cell_type": "code",
      "metadata": {
        "id": "lyHzsD4xUGxe",
        "colab_type": "code",
        "outputId": "673c3ce7-ab14-4aac-d1c7-cfa06d2a4e30",
        "colab": {
          "base_uri": "https://localhost:8080/",
          "height": 295
        }
      },
      "source": [
        "show_train_history('loss','val_loss')"
      ],
      "execution_count": 0,
      "outputs": [
        {
          "output_type": "display_data",
          "data": {
            "image/png": "[encoded data removed]",
            "text/plain": [
              "<Figure size 432x288 with 1 Axes>"
            ]
          },
          "metadata": {
            "tags": []
          }
        }
      ]
    },
    {
      "cell_type": "markdown",
      "metadata": {
        "id": "IsH548VpUGxg",
        "colab_type": "text"
      },
      "source": [
        "# 評估模型準確率"
      ]
    },
    {
      "cell_type": "code",
      "metadata": {
        "id": "K5yib7VxUGxh",
        "colab_type": "code",
        "outputId": "8c3e0be1-5061-4dfb-8c01-014532fc43ae",
        "colab": {
          "base_uri": "https://localhost:8080/",
          "height": 51
        }
      },
      "source": [
        "scores = model.evaluate(x_Test4D_normalize , y_TestOneHot)\n",
        "scores[1]"
      ],
      "execution_count": 0,
      "outputs": [
        {
          "output_type": "stream",
          "text": [
            "10000/10000 [==============================] - 1s 53us/step\n"
          ],
          "name": "stdout"
        },
        {
          "output_type": "execute_result",
          "data": {
            "text/plain": [
              "0.9935"
            ]
          },
          "metadata": {
            "tags": []
          },
          "execution_count": 23
        }
      ]
    },
    {
      "cell_type": "markdown",
      "metadata": {
        "id": "91g6qlTpUGxk",
        "colab_type": "text"
      },
      "source": [
        "# 預測結果"
      ]
    },
    {
      "cell_type": "code",
      "metadata": {
        "id": "QVNU5UeIUGxl",
        "colab_type": "code",
        "colab": {}
      },
      "source": [
        "prediction=model.predict_classes(x_Test4D_normalize)"
      ],
      "execution_count": 0,
      "outputs": []
    },
    {
      "cell_type": "code",
      "metadata": {
        "id": "e349VAHxUGxo",
        "colab_type": "code",
        "outputId": "bd465981-de25-4c3a-decd-c47cbb8da45a",
        "colab": {
          "base_uri": "https://localhost:8080/",
          "height": 34
        }
      },
      "source": [
        "prediction[:10]"
      ],
      "execution_count": 0,
      "outputs": [
        {
          "output_type": "execute_result",
          "data": {
            "text/plain": [
              "array([7, 2, 1, 0, 4, 1, 4, 9, 5, 9])"
            ]
          },
          "metadata": {
            "tags": []
          },
          "execution_count": 25
        }
      ]
    },
    {
      "cell_type": "markdown",
      "metadata": {
        "id": "ZtFqkPnfUGxr",
        "colab_type": "text"
      },
      "source": [
        "# 查看預測結果"
      ]
    },
    {
      "cell_type": "code",
      "metadata": {
        "id": "nD7igzMTUGxr",
        "colab_type": "code",
        "colab": {}
      },
      "source": [
        "import matplotlib.pyplot as plt\n",
        "def plot_images_labels_prediction(images,labels,prediction,idx,num=10):\n",
        "    fig = plt.gcf()\n",
        "    fig.set_size_inches(12, 14)\n",
        "    if num>25: num=25 \n",
        "    for i in range(0, num):\n",
        "        ax=plt.subplot(5,5, 1+i)\n",
        "        ax.imshow(images[idx], cmap='binary')\n",
        "\n",
        "        ax.set_title(\"label=\" +str(labels[idx])+\n",
        "                     \",predict=\"+str(prediction[idx])\n",
        "                     ,fontsize=10) \n",
        "        \n",
        "        ax.set_xticks([]);ax.set_yticks([])        \n",
        "        idx+=1 \n",
        "    plt.show()"
      ],
      "execution_count": 0,
      "outputs": []
    },
    {
      "cell_type": "code",
      "metadata": {
        "id": "VzAZgPSsUGxv",
        "colab_type": "code",
        "outputId": "26692cb8-76d3-47cb-9d7d-85c74c7a8905",
        "colab": {
          "base_uri": "https://localhost:8080/",
          "height": 321
        }
      },
      "source": [
        "plot_images_labels_prediction(x_Test,y_Test,prediction,idx=0)"
      ],
      "execution_count": 0,
      "outputs": [
        {
          "output_type": "display_data",
          "data": {
            "image/png": "[encoded data removed]",
            "text/plain": [
              "<Figure size 864x1008 with 10 Axes>"
            ]
          },
          "metadata": {
            "tags": []
          }
        }
      ]
    },
    {
      "cell_type": "markdown",
      "metadata": {
        "id": "zHP7O0b-UGxy",
        "colab_type": "text"
      },
      "source": [
        "# confusion matrix"
      ]
    },
    {
      "cell_type": "code",
      "metadata": {
        "id": "Lbq_2CYrUGxz",
        "colab_type": "code",
        "outputId": "ee794271-168f-4738-94b5-ae139e6b5c62",
        "colab": {
          "base_uri": "https://localhost:8080/",
          "height": 390
        }
      },
      "source": [
        "import pandas as pd\n",
        "pd.crosstab(y_Test,prediction,\n",
        "            rownames=['label'],colnames=['predict'])"
      ],
      "execution_count": 0,
      "outputs": [
        {
          "output_type": "execute_result",
          "data": {
            "text/html": [
              "<div>\n",
              "<style scoped>\n",
              "    .dataframe tbody tr th:only-of-type {\n",
              "        vertical-align: middle;\n",
              "    }\n",
              "\n",
              "    .dataframe tbody tr th {\n",
              "        vertical-align: top;\n",
              "    }\n",
              "\n",
              "    .dataframe thead th {\n",
              "        text-align: right;\n",
              "    }\n",
              "</style>\n",
              "<table border=\"1\" class=\"dataframe\">\n",
              "  <thead>\n",
              "    <tr style=\"text-align: right;\">\n",
              "      <th>predict</th>\n",
              "      <th>0</th>\n",
              "      <th>1</th>\n",
              "      <th>2</th>\n",
              "      <th>3</th>\n",
              "      <th>4</th>\n",
              "      <th>5</th>\n",
              "      <th>6</th>\n",
              "      <th>7</th>\n",
              "      <th>8</th>\n",
              "      <th>9</th>\n",
              "    </tr>\n",
              "    <tr>\n",
              "      <th>label</th>\n",
              "      <th></th>\n",
              "      <th></th>\n",
              "      <th></th>\n",
              "      <th></th>\n",
              "      <th></th>\n",
              "      <th></th>\n",
              "      <th></th>\n",
              "      <th></th>\n",
              "      <th></th>\n",
              "      <th></th>\n",
              "    </tr>\n",
              "  </thead>\n",
              "  <tbody>\n",
              "    <tr>\n",
              "      <th>0</th>\n",
              "      <td>976</td>\n",
              "      <td>1</td>\n",
              "      <td>0</td>\n",
              "      <td>0</td>\n",
              "      <td>0</td>\n",
              "      <td>0</td>\n",
              "      <td>1</td>\n",
              "      <td>1</td>\n",
              "      <td>1</td>\n",
              "      <td>0</td>\n",
              "    </tr>\n",
              "    <tr>\n",
              "      <th>1</th>\n",
              "      <td>0</td>\n",
              "      <td>1133</td>\n",
              "      <td>1</td>\n",
              "      <td>0</td>\n",
              "      <td>0</td>\n",
              "      <td>0</td>\n",
              "      <td>0</td>\n",
              "      <td>1</td>\n",
              "      <td>0</td>\n",
              "      <td>0</td>\n",
              "    </tr>\n",
              "    <tr>\n",
              "      <th>2</th>\n",
              "      <td>2</td>\n",
              "      <td>0</td>\n",
              "      <td>1026</td>\n",
              "      <td>0</td>\n",
              "      <td>0</td>\n",
              "      <td>0</td>\n",
              "      <td>0</td>\n",
              "      <td>3</td>\n",
              "      <td>1</td>\n",
              "      <td>0</td>\n",
              "    </tr>\n",
              "    <tr>\n",
              "      <th>3</th>\n",
              "      <td>0</td>\n",
              "      <td>0</td>\n",
              "      <td>0</td>\n",
              "      <td>1005</td>\n",
              "      <td>0</td>\n",
              "      <td>3</td>\n",
              "      <td>0</td>\n",
              "      <td>0</td>\n",
              "      <td>2</td>\n",
              "      <td>0</td>\n",
              "    </tr>\n",
              "    <tr>\n",
              "      <th>4</th>\n",
              "      <td>0</td>\n",
              "      <td>0</td>\n",
              "      <td>0</td>\n",
              "      <td>0</td>\n",
              "      <td>976</td>\n",
              "      <td>0</td>\n",
              "      <td>1</td>\n",
              "      <td>0</td>\n",
              "      <td>2</td>\n",
              "      <td>3</td>\n",
              "    </tr>\n",
              "    <tr>\n",
              "      <th>5</th>\n",
              "      <td>1</td>\n",
              "      <td>0</td>\n",
              "      <td>0</td>\n",
              "      <td>4</td>\n",
              "      <td>0</td>\n",
              "      <td>886</td>\n",
              "      <td>1</td>\n",
              "      <td>0</td>\n",
              "      <td>0</td>\n",
              "      <td>0</td>\n",
              "    </tr>\n",
              "    <tr>\n",
              "      <th>6</th>\n",
              "      <td>2</td>\n",
              "      <td>3</td>\n",
              "      <td>0</td>\n",
              "      <td>0</td>\n",
              "      <td>2</td>\n",
              "      <td>2</td>\n",
              "      <td>949</td>\n",
              "      <td>0</td>\n",
              "      <td>0</td>\n",
              "      <td>0</td>\n",
              "    </tr>\n",
              "    <tr>\n",
              "      <th>7</th>\n",
              "      <td>0</td>\n",
              "      <td>3</td>\n",
              "      <td>3</td>\n",
              "      <td>1</td>\n",
              "      <td>1</td>\n",
              "      <td>0</td>\n",
              "      <td>0</td>\n",
              "      <td>1016</td>\n",
              "      <td>1</td>\n",
              "      <td>3</td>\n",
              "    </tr>\n",
              "    <tr>\n",
              "      <th>8</th>\n",
              "      <td>2</td>\n",
              "      <td>0</td>\n",
              "      <td>1</td>\n",
              "      <td>1</td>\n",
              "      <td>0</td>\n",
              "      <td>1</td>\n",
              "      <td>0</td>\n",
              "      <td>1</td>\n",
              "      <td>966</td>\n",
              "      <td>2</td>\n",
              "    </tr>\n",
              "    <tr>\n",
              "      <th>9</th>\n",
              "      <td>1</td>\n",
              "      <td>0</td>\n",
              "      <td>0</td>\n",
              "      <td>1</td>\n",
              "      <td>2</td>\n",
              "      <td>1</td>\n",
              "      <td>0</td>\n",
              "      <td>1</td>\n",
              "      <td>1</td>\n",
              "      <td>1002</td>\n",
              "    </tr>\n",
              "  </tbody>\n",
              "</table>\n",
              "</div>"
            ],
            "text/plain": [
              "predict    0     1     2     3    4    5    6     7    8     9\n",
              "label                                                         \n",
              "0        976     1     0     0    0    0    1     1    1     0\n",
              "1          0  1133     1     0    0    0    0     1    0     0\n",
              "2          2     0  1026     0    0    0    0     3    1     0\n",
              "3          0     0     0  1005    0    3    0     0    2     0\n",
              "4          0     0     0     0  976    0    1     0    2     3\n",
              "5          1     0     0     4    0  886    1     0    0     0\n",
              "6          2     3     0     0    2    2  949     0    0     0\n",
              "7          0     3     3     1    1    0    0  1016    1     3\n",
              "8          2     0     1     1    0    1    0     1  966     2\n",
              "9          1     0     0     1    2    1    0     1    1  1002"
            ]
          },
          "metadata": {
            "tags": []
          },
          "execution_count": 28
        }
      ]
    },
    {
      "cell_type": "code",
      "metadata": {
        "id": "syoMH4dKUGx4",
        "colab_type": "code",
        "colab": {}
      },
      "source": [
        "df = pd.DataFrame({'label':y_Test, 'predict':prediction})"
      ],
      "execution_count": 0,
      "outputs": []
    },
    {
      "cell_type": "code",
      "metadata": {
        "id": "obvYq4f1UGx7",
        "colab_type": "code",
        "outputId": "98adb053-1597-4c87-9885-a533f986280b",
        "colab": {
          "base_uri": "https://localhost:8080/",
          "height": 173
        }
      },
      "source": [
        "df[(df.label==5)&(df.predict==3)]"
      ],
      "execution_count": 0,
      "outputs": [
        {
          "output_type": "execute_result",
          "data": {
            "text/html": [
              "<div>\n",
              "<style scoped>\n",
              "    .dataframe tbody tr th:only-of-type {\n",
              "        vertical-align: middle;\n",
              "    }\n",
              "\n",
              "    .dataframe tbody tr th {\n",
              "        vertical-align: top;\n",
              "    }\n",
              "\n",
              "    .dataframe thead th {\n",
              "        text-align: right;\n",
              "    }\n",
              "</style>\n",
              "<table border=\"1\" class=\"dataframe\">\n",
              "  <thead>\n",
              "    <tr style=\"text-align: right;\">\n",
              "      <th></th>\n",
              "      <th>label</th>\n",
              "      <th>predict</th>\n",
              "    </tr>\n",
              "  </thead>\n",
              "  <tbody>\n",
              "    <tr>\n",
              "      <th>1393</th>\n",
              "      <td>5</td>\n",
              "      <td>3</td>\n",
              "    </tr>\n",
              "    <tr>\n",
              "      <th>2369</th>\n",
              "      <td>5</td>\n",
              "      <td>3</td>\n",
              "    </tr>\n",
              "    <tr>\n",
              "      <th>2597</th>\n",
              "      <td>5</td>\n",
              "      <td>3</td>\n",
              "    </tr>\n",
              "    <tr>\n",
              "      <th>5937</th>\n",
              "      <td>5</td>\n",
              "      <td>3</td>\n",
              "    </tr>\n",
              "  </tbody>\n",
              "</table>\n",
              "</div>"
            ],
            "text/plain": [
              "      label  predict\n",
              "1393      5        3\n",
              "2369      5        3\n",
              "2597      5        3\n",
              "5937      5        3"
            ]
          },
          "metadata": {
            "tags": []
          },
          "execution_count": 30
        }
      ]
    },
    {
      "cell_type": "code",
      "metadata": {
        "id": "HIVOtssKUe0Q",
        "colab_type": "code",
        "colab": {}
      },
      "source": [
        ""
      ],
      "execution_count": 0,
      "outputs": []
    }
  ]
}